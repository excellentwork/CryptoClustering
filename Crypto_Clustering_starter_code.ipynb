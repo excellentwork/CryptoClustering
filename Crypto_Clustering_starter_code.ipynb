{
  "cells": [
    {
      "cell_type": "markdown",
      "metadata": {
        "id": "view-in-github",
        "colab_type": "text"
      },
      "source": [
        "<a href=\"https://colab.research.google.com/github/excellentwork/CryptoClustering/blob/main/Crypto_Clustering_starter_code.ipynb\" target=\"_parent\"><img src=\"https://colab.research.google.com/assets/colab-badge.svg\" alt=\"Open In Colab\"/></a>"
      ]
    },
    {
      "cell_type": "code",
      "execution_count": 3,
      "metadata": {
        "id": "1O2AScDl7Wjj",
        "colab": {
          "base_uri": "https://localhost:8080/",
          "height": 375
        },
        "outputId": "0716e8a4-3561-42d9-e65b-8443c2800742"
      },
      "outputs": [
        {
          "output_type": "error",
          "ename": "ModuleNotFoundError",
          "evalue": "No module named 'utils'",
          "traceback": [
            "\u001b[0;31m---------------------------------------------------------------------------\u001b[0m",
            "\u001b[0;31mModuleNotFoundError\u001b[0m                       Traceback (most recent call last)",
            "\u001b[0;32m<ipython-input-3-52df75f6c197>\u001b[0m in \u001b[0;36m<cell line: 8>\u001b[0;34m()\u001b[0m\n\u001b[1;32m      6\u001b[0m \u001b[0;32mimport\u001b[0m \u001b[0mmatplotlib\u001b[0m\u001b[0;34m.\u001b[0m\u001b[0mpyplot\u001b[0m \u001b[0;32mas\u001b[0m \u001b[0mplt\u001b[0m\u001b[0;34m\u001b[0m\u001b[0;34m\u001b[0m\u001b[0m\n\u001b[1;32m      7\u001b[0m \u001b[0;34m\u001b[0m\u001b[0m\n\u001b[0;32m----> 8\u001b[0;31m \u001b[0;32mfrom\u001b[0m \u001b[0mutils\u001b[0m \u001b[0;32mimport\u001b[0m \u001b[0mload_data\u001b[0m\u001b[0;34m,\u001b[0m \u001b[0mnormalize_data\u001b[0m\u001b[0;34m,\u001b[0m \u001b[0mfit_kmeans\u001b[0m\u001b[0;34m,\u001b[0m \u001b[0mperform_pca\u001b[0m\u001b[0;34m,\u001b[0m \u001b[0mcompute_elbow_curve\u001b[0m\u001b[0;34m,\u001b[0m \u001b[0mplot_elbow_curve\u001b[0m\u001b[0;34m,\u001b[0m \u001b[0mplot_pca_clusters\u001b[0m\u001b[0;34m\u001b[0m\u001b[0;34m\u001b[0m\u001b[0m\n\u001b[0m",
            "\u001b[0;31mModuleNotFoundError\u001b[0m: No module named 'utils'",
            "",
            "\u001b[0;31m---------------------------------------------------------------------------\u001b[0;32m\nNOTE: If your import is failing due to a missing package, you can\nmanually install dependencies using either !pip or !apt.\n\nTo view examples of installing some common dependencies, click the\n\"Open Examples\" button below.\n\u001b[0;31m---------------------------------------------------------------------------\u001b[0m\n"
          ],
          "errorDetails": {
            "actions": [
              {
                "action": "open_url",
                "actionText": "Open Examples",
                "url": "/notebooks/snippets/importing_libraries.ipynb"
              }
            ]
          }
        }
      ],
      "source": [
        "# Import required libraries and dependencies\n",
        "import pandas as pd\n",
        "from sklearn.cluster import KMeans\n",
        "from sklearn.decomposition import PCA\n",
        "from sklearn.preprocessing import StandardScaler\n",
        "import matplotlib.pyplot as plt\n",
        "\n",
        "from utils import load_data, normalize_data, fit_kmeans, perform_pca, compute_elbow_curve, plot_elbow_curve, plot_pca_clusters"
      ]
    },
    {
      "cell_type": "code",
      "execution_count": null,
      "metadata": {
        "id": "4xw_NVh67Wjk"
      },
      "outputs": [],
      "source": [
        "# Load the data into a Pandas DataFrame and make the index the \"coin_id\" column.\n",
        "market_data_df = pd.read_csv(\"/content/crypto_market_data.csv\", index_col=\"coin_id\")\n",
        "\n",
        "# Display sample data\n",
        "market_data_df.head(10)"
      ]
    },
    {
      "cell_type": "code",
      "execution_count": null,
      "metadata": {
        "id": "pIYn55L27Wjl"
      },
      "outputs": [],
      "source": [
        "# Generate summary statistics\n",
        "market_data_df.describe()"
      ]
    },
    {
      "cell_type": "markdown",
      "metadata": {
        "id": "v2Hdxms77Wjm"
      },
      "source": [
        "### Prepare the Data"
      ]
    },
    {
      "cell_type": "code",
      "execution_count": null,
      "metadata": {
        "id": "xUpHZJY_7Wjm"
      },
      "outputs": [],
      "source": [
        "# Use the `StandardScaler()` module from scikit-learn to normalize the data from the CSV file\n",
        "scaled_data = StandardScaler().fit_transform(market_data_df)"
      ]
    },
    {
      "cell_type": "code",
      "execution_count": null,
      "metadata": {
        "id": "BLOJO7Tb7Wjm"
      },
      "outputs": [],
      "source": [
        "# Create a DataFrame with the scaled data\n",
        "scaled_df = pd.DataFrame(scaled_data, columns=market_data_df.columns)\n",
        "\n",
        "# Copy the crypto names from the original data\n",
        "scaled_df[\"coin_id\"] = market_data_df.index\n",
        "\n",
        "# Set the coinid column as index\n",
        "scaled_df = scaled_df.set_index(\"coin_id\")\n",
        "\n",
        "# Display sample data\n",
        "scaled_df.head()"
      ]
    },
    {
      "cell_type": "markdown",
      "metadata": {
        "id": "Mlq9Jf8K7Wjn"
      },
      "source": [
        "### Find the Best Value for k Using the Original Scaled DataFrame."
      ]
    },
    {
      "cell_type": "code",
      "execution_count": null,
      "metadata": {
        "id": "GQsMabuN7Wjn"
      },
      "outputs": [],
      "source": [
        "# Compute the elbow curve\n",
        "k_range = range(1, 11)\n",
        "elbow_df = compute_elbow_curve(scaled_df, k_range)\n",
        "\n",
        "# Display the DataFrame\n",
        "\n",
        "elbow_df.head()"
      ]
    },
    {
      "cell_type": "code",
      "execution_count": null,
      "metadata": {
        "id": "R1psvm-t7Wjn"
      },
      "outputs": [],
      "source": [
        "# Plot a line chart with all the inertia values computed with\n",
        "# the different values of k to visually identify the optimal value for k.\n",
        "plot_elbow_curve(elbow_df)"
      ]
    },
    {
      "cell_type": "markdown",
      "metadata": {
        "id": "5KZBFD7K7Wjn"
      },
      "source": [
        "#### Answer the following question:\n",
        "**Question:** What is the best value for `k`?\n",
        "\n",
        "**Answer:**"
      ]
    },
    {
      "cell_type": "markdown",
      "metadata": {
        "id": "7v7Genam7Wjo"
      },
      "source": [
        "### Cluster Cryptocurrencies with K-means Using the Original Scaled Data."
      ]
    },
    {
      "cell_type": "code",
      "execution_count": null,
      "metadata": {
        "id": "i0fyR0b_7Wjo"
      },
      "outputs": [],
      "source": [
        "# Initialize the K-Means model using the best value for k\n",
        "model = KMeans(n_clusters=4, random_state=42)"
      ]
    },
    {
      "cell_type": "code",
      "execution_count": null,
      "metadata": {
        "id": "10qqoupq7Wjo"
      },
      "outputs": [],
      "source": [
        "# Fit the K-Means model using the scaled data\n",
        "model.fit(scaled_df)"
      ]
    },
    {
      "cell_type": "code",
      "execution_count": null,
      "metadata": {
        "id": "tdYOOiVR7Wjo"
      },
      "outputs": [],
      "source": [
        "# Predict the clusters to group the cryptocurrencies using the scaled data\n",
        "\n",
        "predictions = model.predict(scaled_df)\n",
        "\n",
        "# View the resulting array of cluster values.\n",
        "print(predictions)"
      ]
    },
    {
      "cell_type": "code",
      "execution_count": null,
      "metadata": {
        "id": "5S-RxNYI7Wjo"
      },
      "outputs": [],
      "source": [
        "# Create a copy of the DataFrame\n",
        "clustered_df = scaled_df.copy()"
      ]
    },
    {
      "cell_type": "code",
      "execution_count": null,
      "metadata": {
        "id": "PErhWLor7Wjp"
      },
      "outputs": [],
      "source": [
        "# Add a new column to the DataFrame with the predicted clusters\n",
        "\n",
        "clustered_df[\"cluster\"] = predictions\n",
        "\n",
        "# Display sample data\n",
        "\n",
        "clustered_df.head()"
      ]
    },
    {
      "cell_type": "code",
      "execution_count": null,
      "metadata": {
        "id": "28gtl4iJ7Wjp"
      },
      "outputs": [],
      "source": [
        "# Create a scatter plot using Pandas plot by setting\n",
        "# `x=\"price_change_percentage_24h\"` and `y=\"price_change_percentage_7d\"`.\n",
        "# Use \"rainbow\" for the color to better visualize the data.\n",
        "\n",
        "plot_pca_clusters(\n",
        "    clustered_df,\n",
        "    x='price_change_percentage_24h',\n",
        "    y='price_change_percentage_7d',\n",
        "    cluster_col='cluster',\n",
        "    colormap='rainbow')"
      ]
    },
    {
      "cell_type": "markdown",
      "metadata": {
        "id": "9N-cvhJR7Wjp"
      },
      "source": [
        "### Optimize Clusters with Principal Component Analysis."
      ]
    },
    {
      "cell_type": "code",
      "execution_count": null,
      "metadata": {
        "id": "6LgFupTr7Wjp"
      },
      "outputs": [],
      "source": [
        "# Create a PCA model instance and set `n_components=3`.\n",
        "pca_model = PCA(n_components=3)"
      ]
    },
    {
      "cell_type": "code",
      "execution_count": null,
      "metadata": {
        "id": "KHH5xeag7Wjp"
      },
      "outputs": [],
      "source": [
        "# Use the PCA model with `fit_transform` on the original scaled DataFrame to reduce to three principal components.\n",
        "pca_df=pca_model.fit_transform(scaled_df)\n",
        "\n",
        "# View the first five rows of the DataFrame.\n",
        "pca_df[:5]"
      ]
    },
    {
      "cell_type": "code",
      "execution_count": null,
      "metadata": {
        "id": "efoI5i4I7Wjp"
      },
      "outputs": [],
      "source": [
        "# Retrieve the explained variance to determine how much information  can be attributed to each principal component.\n",
        "pca_model.explained_variance_ratio_"
      ]
    },
    {
      "cell_type": "markdown",
      "metadata": {
        "id": "THlrxszH7Wjq"
      },
      "source": [
        "#### Answer the following question:\n",
        "\n",
        "**Question:** What is the total explained variance of the three principal components?\n",
        "\n",
        "**Answer:** The total explained variance of the three principal components is about 88.44% or 0.8844\n",
        "\n",
        "Showing that the three components together capture about 88.44% of variance within the dataset."
      ]
    },
    {
      "cell_type": "code",
      "execution_count": null,
      "metadata": {
        "id": "BZqkj3ev7Wjq"
      },
      "outputs": [],
      "source": [
        "# Create a new DataFrame with the PCA data.\n",
        "# Note: The code for this step is provided for you\n",
        "\n",
        "# Creating a DataFrame with the PCA data\n",
        "cluster_pca_df = pd.DataFrame(\n",
        "    pca_df,\n",
        "    columns = [\"PCA1\", \"PCA2\", \"PCA3\"]\n",
        ")\n",
        "\n",
        "# Copy the crypto names from the original data\n",
        "cluster_pca_df[\"coin_id\"] = market_data_df.index\n",
        "\n",
        "# Set the coinid column as index\n",
        "\n",
        "cluster_pca_df = cluster_pca_df.set_index('coin_id')\n",
        "\n",
        "# Display sample data\n",
        "\n",
        "cluster_pca_df"
      ]
    },
    {
      "cell_type": "markdown",
      "metadata": {
        "id": "_rOZHVf97Wjq"
      },
      "source": [
        "### Find the Best Value for k Using the PCA Data"
      ]
    },
    {
      "cell_type": "code",
      "execution_count": null,
      "metadata": {
        "id": "l9AQQBfE7Wjq"
      },
      "outputs": [],
      "source": [
        "# Compute the elbow curve\n",
        "k_range = range(1, 11)\n",
        "elbow_df = compute_elbow_curve(cluster_pca_df, k_range)\n",
        "\n",
        "# Display the DataFrame\n",
        "\n",
        "elbow_2_df"
      ]
    },
    {
      "cell_type": "code",
      "execution_count": null,
      "metadata": {
        "id": "hR02HPxN7Wjq"
      },
      "outputs": [],
      "source": [
        "# Plot a line chart with all the inertia values computed with\n",
        "# the different values of k to visually identify the optimal value for k.\n",
        "plot_elbow_curve(elbow_2_df)"
      ]
    },
    {
      "cell_type": "markdown",
      "metadata": {
        "id": "uig_EHib7Wjr"
      },
      "source": [
        "#### Answer the following questions:\n",
        "* **Question:** What is the best value for `k` when using the PCA data?\n",
        "\n",
        "  * **Answer:**\n",
        "\n",
        "\n",
        "* **Question:** Does it differ from the best k value found using the original data?\n",
        "\n",
        "  * **Answer:**"
      ]
    },
    {
      "cell_type": "markdown",
      "metadata": {
        "id": "TzBDmenh7Wjr"
      },
      "source": [
        "### Cluster Cryptocurrencies with K-means Using the PCA Data"
      ]
    },
    {
      "cell_type": "code",
      "execution_count": null,
      "metadata": {
        "id": "RBXrMlxY7Wjr"
      },
      "outputs": [],
      "source": [
        "# Initialize the K-Means model using the best value for k\n",
        "model_2 = KMeans(n_clusters=4, random_state=42)"
      ]
    },
    {
      "cell_type": "code",
      "execution_count": null,
      "metadata": {
        "id": "cwGbMUc87Wjr"
      },
      "outputs": [],
      "source": [
        "# Fit the K-Means model using the PCA data\n",
        "model_2.fit(cluster_pca_df)"
      ]
    },
    {
      "cell_type": "code",
      "execution_count": null,
      "metadata": {
        "id": "ljAuDXYq7Wjr"
      },
      "outputs": [],
      "source": [
        "# Predict the clusters to group the cryptocurrencies using the PCA data\n",
        "predictions_2 = model_2.predict(cluster_pca_df)\n",
        "\n",
        "# Print the resulting array of cluster values.\n",
        "print(predictions_2)"
      ]
    },
    {
      "cell_type": "code",
      "execution_count": null,
      "metadata": {
        "id": "5uty33kM7Wjr"
      },
      "outputs": [],
      "source": [
        "# Create a copy of the DataFrame with the PCA data\n",
        "clustered_pca_df_copy = cluster_pca_df.copy()\n",
        "\n",
        "# Add a new column to the DataFrame with the predicted clusters\n",
        "clustered_pca_df_copy[\"cluster\"] = predictions_2\n",
        "\n",
        "# Display sample data\n",
        "clustered_pca_df_copy.head()"
      ]
    },
    {
      "cell_type": "code",
      "execution_count": null,
      "metadata": {
        "id": "oUBBknKI7Wjs"
      },
      "outputs": [],
      "source": [
        "# Create a scatter plot by setting `x=\"PCA1\"` and `y=\"PCA2\"`.\n",
        "plot_pca_clusters(clustered_pca_df_copy,\n",
        "                  x='PCA1',\n",
        "                  y='PCA2',\n",
        "                  cluster_col='crypto_cluster',\n",
        "                  colormap='rainbow')\n",
        "\n",
        "clustered_pca_df_copy.plot.scatter(\n",
        "    x='PCA1',\n",
        "    y='PCA2',\n",
        "    c='crypto_cluster',\n",
        "    colormap=\"rainbow\")\n",
        "\n",
        "# Display the plot\n",
        "clustered_pca_df_copy"
      ]
    },
    {
      "cell_type": "markdown",
      "metadata": {
        "id": "SuaElKuN7Wjs"
      },
      "source": [
        "### Determine the Weights of Each Feature on each Principal Component"
      ]
    },
    {
      "cell_type": "code",
      "execution_count": null,
      "metadata": {
        "id": "U6YGh2QN7Wjs"
      },
      "outputs": [],
      "source": [
        "# Use the columns from the original scaled DataFrame as the index.\n",
        "market_scaled_predictions = pd.DataFrame(pca_model.components_.T, columns=['PCA1', 'PCA2','PCA3'], index=market_data_df.columns)\n",
        "\n",
        "# Display sample data\n",
        "market_scaled_predictions"
      ]
    },
    {
      "cell_type": "markdown",
      "metadata": {
        "id": "xfD3O1Qb7Wjs"
      },
      "source": [
        "#### Answer the following question:\n",
        "\n",
        "* **Question:** Which features have the strongest positive or negative influence on each component?\n",
        "\n",
        "* **Answer:**\n",
        "    "
      ]
    },
    {
      "cell_type": "code",
      "execution_count": null,
      "metadata": {
        "id": "9nMbicQ-7Wjs"
      },
      "outputs": [],
      "source": []
    }
  ],
  "metadata": {
    "kernelspec": {
      "display_name": "Python 3 (ipykernel)",
      "language": "python",
      "name": "python3"
    },
    "language_info": {
      "codemirror_mode": {
        "name": "ipython",
        "version": 3
      },
      "file_extension": ".py",
      "mimetype": "text/x-python",
      "name": "python",
      "nbconvert_exporter": "python",
      "pygments_lexer": "ipython3",
      "version": "3.10.12"
    },
    "nteract": {
      "version": "0.28.0"
    },
    "vscode": {
      "interpreter": {
        "hash": "40d3a090f54c6569ab1632332b64b2c03c39dcf918b08424e98f38b5ae0af88f"
      }
    },
    "colab": {
      "provenance": [],
      "include_colab_link": true
    }
  },
  "nbformat": 4,
  "nbformat_minor": 0
}